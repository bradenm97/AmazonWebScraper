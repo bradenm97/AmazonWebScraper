{
 "cells": [
  {
   "cell_type": "code",
   "execution_count": 12,
   "id": "49d7c0c4",
   "metadata": {},
   "outputs": [],
   "source": [
    "#import Libraries\n",
    "\n",
    "from bs4 import BeautifulSoup\n",
    "import csv\n",
    "from selenium import webdriver\n"
   ]
  },
  {
   "cell_type": "code",
   "execution_count": 14,
   "id": "d4870ed9",
   "metadata": {},
   "outputs": [],
   "source": [
    "#starting up the webdriver\n",
    "\n",
    "driver = webdriver.Chrome()\n",
    "\n"
   ]
  },
  {
   "cell_type": "code",
   "execution_count": 15,
   "id": "062badbe",
   "metadata": {},
   "outputs": [],
   "source": [
    "url = 'https://www.amazon.com'\n",
    "driver.get(url)"
   ]
  },
  {
   "cell_type": "code",
   "execution_count": 25,
   "id": "b2d32e68",
   "metadata": {},
   "outputs": [],
   "source": [
    "def geturl(searchterm):\n",
    "    template = 'https://www.amazon.com/s?k={}&ref=nb_sb_noss'\n",
    "    searchterm = searchterm.replace(' ', '+')\n",
    "    return template.format(searchterm)"
   ]
  },
  {
   "cell_type": "code",
   "execution_count": 26,
   "id": "9a65d0c1",
   "metadata": {},
   "outputs": [
    {
     "name": "stdout",
     "output_type": "stream",
     "text": [
      "https://www.amazon.com/s?k=trumpet&ref=nb_sb_noss\n"
     ]
    }
   ],
   "source": [
    "url = geturl('trumpet')"
   ]
  },
  {
   "cell_type": "code",
   "execution_count": 36,
   "id": "ce562243",
   "metadata": {},
   "outputs": [],
   "source": [
    "#extracting the data\n",
    "driver.get(url)\n",
    "\n",
    "soup = BeautifulSoup(driver.page_source, 'html.parser')"
   ]
  },
  {
   "cell_type": "code",
   "execution_count": 37,
   "id": "557c359e",
   "metadata": {},
   "outputs": [],
   "source": [
    "results = soup.find_all('div', {'data-component-type': 's-search-result'})"
   ]
  },
  {
   "cell_type": "code",
   "execution_count": 38,
   "id": "666be612",
   "metadata": {},
   "outputs": [
    {
     "data": {
      "text/plain": [
       "60"
      ]
     },
     "execution_count": 38,
     "metadata": {},
     "output_type": "execute_result"
    }
   ],
   "source": [
    "len(results)"
   ]
  },
  {
   "cell_type": "code",
   "execution_count": 39,
   "id": "d7c1ec20",
   "metadata": {},
   "outputs": [],
   "source": [
    "#Prototye\n",
    "item = results[0]"
   ]
  },
  {
   "cell_type": "code",
   "execution_count": 40,
   "id": "78dea22f",
   "metadata": {},
   "outputs": [],
   "source": [
    "atag = item.h2.a"
   ]
  },
  {
   "cell_type": "code",
   "execution_count": 42,
   "id": "74901a38",
   "metadata": {},
   "outputs": [],
   "source": [
    "description = atag.text.strip()"
   ]
  },
  {
   "cell_type": "code",
   "execution_count": 44,
   "id": "66fa02b6",
   "metadata": {},
   "outputs": [],
   "source": [
    "url = 'https://www.amazon.com' + atag.get('href')"
   ]
  },
  {
   "cell_type": "code",
   "execution_count": 47,
   "id": "87810b6e",
   "metadata": {},
   "outputs": [],
   "source": [
    "price_parent = item.find('span', 'a-price')"
   ]
  },
  {
   "cell_type": "code",
   "execution_count": 48,
   "id": "d01e3ce8",
   "metadata": {},
   "outputs": [],
   "source": [
    "price = price_parent.find('span','a-offscreen').text\n"
   ]
  },
  {
   "cell_type": "code",
   "execution_count": 55,
   "id": "be832b5e",
   "metadata": {},
   "outputs": [],
   "source": [
    "rating = item.i.text"
   ]
  },
  {
   "cell_type": "code",
   "execution_count": 57,
   "id": "96a19ab8",
   "metadata": {},
   "outputs": [],
   "source": [
    "review_count = item.find('span', {'class': 'a-size-base'}).text"
   ]
  },
  {
   "cell_type": "code",
   "execution_count": 61,
   "id": "99eb3ac3",
   "metadata": {},
   "outputs": [],
   "source": [
    "product_name = item.find('span', {'class': 'a-size-base-plus a-color-base a-text-normal'}).text"
   ]
  },
  {
   "cell_type": "code",
   "execution_count": 62,
   "id": "a2990a54",
   "metadata": {},
   "outputs": [
    {
     "name": "stdout",
     "output_type": "stream",
     "text": [
      "Mendini By Cecilio Bb Trumpet - Trumpets for Beginner or Advanced Student w/Case, Cloth, Oil, Gloves - Brass Musical Instruments For Kids & Adults\n"
     ]
    }
   ],
   "source": [
    "print(product_name)"
   ]
  },
  {
   "cell_type": "code",
   "execution_count": 64,
   "id": "b81dd952",
   "metadata": {},
   "outputs": [],
   "source": [
    "#reading all of the search results on a page"
   ]
  },
  {
   "cell_type": "code",
   "execution_count": 70,
   "id": "9822830e",
   "metadata": {},
   "outputs": [],
   "source": [
    "def extract_record(item):\n",
    "    atag = item.h2.a\n",
    "    description = atag.text.strip()\n",
    "    url = 'https://www.amazon.com' + atag.get('href')\n",
    "    product_name = item.find('span', {'class': 'a-size-base-plus a-color-base a-text-normal'}).text\n",
    "    \n",
    "    try:\n",
    "        price_parent = item.find('span', 'a-price')\n",
    "        price = price_parent.find('span','a-offscreen').text\n",
    "    except AttributeError:\n",
    "        return\n",
    "    \n",
    "    try: \n",
    "        rating = item.i.text\n",
    "        review_count = item.find('span', {'class': 'a-size-base'}).text\n",
    "    except AttributError:\n",
    "        rating = ' '\n",
    "        review_count = ' '\n",
    "    \n",
    "    \n",
    "    result = (description, product_name, price, rating, review_count, url)\n",
    "    \n",
    "    return result   \n"
   ]
  },
  {
   "cell_type": "code",
   "execution_count": 71,
   "id": "f09f90ba",
   "metadata": {},
   "outputs": [],
   "source": [
    "records = []\n",
    "\n",
    "results = soup.find_all('div', {'data-component-type': 's-search-result'})\n",
    "\n",
    "for item in results:\n",
    "    records.append(extract_record(item))"
   ]
  },
  {
   "cell_type": "code",
   "execution_count": 77,
   "id": "867fc467",
   "metadata": {},
   "outputs": [
    {
     "data": {
      "text/plain": [
       "('Mendini By Cecilio Bb Trumpet - Trumpets for Beginner or Advanced Student w/Case, Cloth, Oil, Gloves - Brass Musical Instruments For Kids & Adults',\n",
       " 'Mendini By Cecilio Bb Trumpet - Trumpets for Beginner or Advanced Student w/Case, Cloth, Oil, Gloves - Brass Musical Instruments For Kids & Adults',\n",
       " '$199.99',\n",
       " '4.6 out of 5 stars',\n",
       " '4,327',\n",
       " 'https://www.amazon.com/sspa/click?ie=UTF8&spc=MTozOTQ3OTY3MjY5MzkyMjI5OjE2NjE2Mzk5NzE6c3BfYXRmOjIwMDA0MzM1MjA0ODA4MTo6MDo6&sp_csd=d2lkZ2V0TmFtZT1zcF9hdGY&url=%2FMendini-Cecilio-MTT-L-Trumpet-Gold%2Fdp%2FB00I8QJT78%2Fref%3Dsr_1_1_sspa%3Fkeywords%3Dtrumpet%26qid%3D1661639971%26sr%3D8-1-spons%26psc%3D1%26smid%3DACPGV300K93D')"
      ]
     },
     "execution_count": 77,
     "metadata": {},
     "output_type": "execute_result"
    }
   ],
   "source": [
    "records[0]"
   ]
  },
  {
   "cell_type": "code",
   "execution_count": 82,
   "id": "b584560a",
   "metadata": {},
   "outputs": [],
   "source": [
    "def geturl(searchterm):\n",
    "    template = 'https://www.amazon.com/s?k={}&ref=nb_sb_noss'\n",
    "    searchterm = searchterm.replace(' ', '+')\n",
    "    \n",
    "    #adding next page url data\n",
    "    url = template.format(searchterm)\n",
    "    url += '&page={}'\n",
    "    \n",
    "    return url"
   ]
  },
  {
   "cell_type": "code",
   "execution_count": 3,
   "id": "275b5c25",
   "metadata": {},
   "outputs": [],
   "source": [
    "#Scraping 20 pages of results\n",
    "\n",
    "\n",
    "from bs4 import BeautifulSoup\n",
    "import csv\n",
    "from selenium import webdriver\n",
    "\n",
    "#getting to next page\n",
    "def geturl(searchterm):\n",
    "    template = 'https://www.amazon.com/s?k={}&ref=nb_sb_noss'\n",
    "    searchterm = searchterm.replace(' ', '+')\n",
    "    \n",
    "    #adding next page url data\n",
    "    url = template.format(searchterm)\n",
    "    url += '&page={}'\n",
    "    \n",
    "    return url\n",
    "\n",
    "def extract_record(item): \n",
    "    atag = item.h2.a\n",
    "    description = atag.text.strip()\n",
    "    url = 'https://www.amazon.com' + atag.get('href')\n",
    "        \n",
    "    try:\n",
    "        price_parent = item.find('span', 'a-price')\n",
    "        price = price_parent.find('span','a-offscreen').text\n",
    "    except(AttributeError):\n",
    "        return\n",
    "    try:\n",
    "        fullrating = item.i.text\n",
    "        rating = fullrating[:3]  \n",
    "    except(AttributeError):\n",
    "        return\n",
    "    \n",
    "    try:\n",
    "        review_count = item.find('span', {'class': 'a-size-base s-underline-text'}).text\n",
    "    except(AttributeError):\n",
    "        return\n",
    "   \n",
    "    \n",
    "    \n",
    "    result = (description, price, rating, review_count, url)\n",
    "    \n",
    "    return result\n",
    "\n",
    "\n",
    "def main(searchterm):\n",
    "    driver = webdriver.Chrome()\n",
    "    \n",
    "    records = []\n",
    "    url = geturl(searchterm)\n",
    "    \n",
    "    for page in range(1,21):\n",
    "        driver.get(url.format(page))\n",
    "        soup = BeautifulSoup(driver.page_source, 'html.parser')\n",
    "        results = soup.find_all('div', {'data-component-type': 's-search-result'})\n",
    "        \n",
    "        for item in results:\n",
    "            record = extract_record(item)\n",
    "            if record:\n",
    "                records.append(record)\n",
    "                \n",
    "    driver.close()\n",
    "    \n",
    "    with open('amazonresults.csv', 'w', newline ='', encoding ='utf-8') as f:\n",
    "        writer = csv.writer(f)\n",
    "        writer.writerow(['Description','Price','Rating','NumberOfReviews','url', searchterm])\n",
    "        writer.writerows(records)\n",
    "      \n",
    "\n",
    "\n",
    "\n",
    "\n"
   ]
  },
  {
   "cell_type": "code",
   "execution_count": 4,
   "id": "30495fb6",
   "metadata": {},
   "outputs": [
    {
     "name": "stdout",
     "output_type": "stream",
     "text": [
      "what do you want to look up on Amazon?trumpet\n",
      "CSV was created for  trumpet\n"
     ]
    }
   ],
   "source": [
    "amazonlookup = input(\"what do you want to look up on Amazon?\")\n",
    "\n",
    "main(amazonlookup)\n",
    "\n",
    "print(\"CSV was created for \",amazonlookup)"
   ]
  },
  {
   "cell_type": "code",
   "execution_count": null,
   "id": "c64b57c3",
   "metadata": {
    "scrolled": true
   },
   "outputs": [],
   "source": []
  },
  {
   "cell_type": "code",
   "execution_count": null,
   "id": "4c967007",
   "metadata": {},
   "outputs": [],
   "source": []
  }
 ],
 "metadata": {
  "kernelspec": {
   "display_name": "Python 3",
   "language": "python",
   "name": "python3"
  },
  "language_info": {
   "codemirror_mode": {
    "name": "ipython",
    "version": 3
   },
   "file_extension": ".py",
   "mimetype": "text/x-python",
   "name": "python",
   "nbconvert_exporter": "python",
   "pygments_lexer": "ipython3",
   "version": "3.8.8"
  }
 },
 "nbformat": 4,
 "nbformat_minor": 5
}
